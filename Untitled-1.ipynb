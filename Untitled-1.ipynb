{
 "cells": [
  {
   "cell_type": "code",
   "execution_count": 12,
   "metadata": {},
   "outputs": [
    {
     "name": "stdout",
     "output_type": "stream",
     "text": [
      "!\n",
      "o\n",
      "d\n",
      "n\n",
      "u\n",
      "m\n",
      " \n",
      ",\n",
      "á\n",
      "l\n",
      "O\n"
     ]
    }
   ],
   "source": [
    "class No:\n",
    "   def __init__(self, item):\n",
    "     self.item = item\n",
    "     self.next = None\n",
    "class Pilha:\n",
    "   def __init__(self):\n",
    "          self.topo = None\n",
    "   def push(self, item):\n",
    "       if self.topo is None:\n",
    "           self.topo = No(item) \n",
    "       else:\n",
    "           novo = No(item)\n",
    "           novo.next = self.topo\n",
    "           self.topo = novo\n",
    "   def pop(self):\n",
    "       if self.topo is None:\n",
    "           return None\n",
    "       else:\n",
    "          popped_item = self.topo.item   \n",
    "          self.topo = self.topo.next\n",
    "          return popped_item\n",
    "\n",
    "# Testando a pilha\n",
    "input_string = \"Olá, mundo!\"\n",
    "s = Pilha()\n",
    "\n",
    "for char in input_string:\n",
    "    s.push(char)\n",
    "while s.topo is not None:\n",
    "    print(s.pop())\n"
   ]
  }
 ],
 "metadata": {
  "kernelspec": {
   "display_name": "Python 3",
   "language": "python",
   "name": "python3"
  },
  "language_info": {
   "codemirror_mode": {
    "name": "ipython",
    "version": 3
   },
   "file_extension": ".py",
   "mimetype": "text/x-python",
   "name": "python",
   "nbconvert_exporter": "python",
   "pygments_lexer": "ipython3",
   "version": "3.11.8"
  }
 },
 "nbformat": 4,
 "nbformat_minor": 2
}
